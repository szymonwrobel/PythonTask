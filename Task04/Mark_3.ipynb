{
 "cells": [
  {
   "cell_type": "code",
   "execution_count": 46,
   "id": "occupied-starter",
   "metadata": {
    "scrolled": true
   },
   "outputs": [
    {
     "name": "stdout",
     "output_type": "stream",
     "text": [
      "        count      %\n",
      "Male     1528  36.58\n",
      "Infant   1342  32.13\n",
      "Female   1307  31.29\n"
     ]
    }
   ],
   "source": [
    "import pandas as pd\n",
    "\n",
    "juicers = pd.read_csv('data.csv', names=['sex', 'length', 'diameter', 'height', 'whole_weight', 'shucked_weight', 'viscera_weight', 'shell_weight', 'rings'])\n",
    "\n",
    "male_number = juicers[juicers['sex']=='M'].shape[0]\n",
    "infant_number = juicers[juicers['sex']=='I'].shape[0]\n",
    "female_number = juicers[juicers['sex']=='F'].shape[0]\n",
    "juicers_number = juicers.shape[0]\n",
    "\n",
    "juicers_sex_table = pd.DataFrame({\n",
    "    'count': [male_number, infant_number, female_number],\n",
    "    '%': [male_number * 100 / juicers_number, infant_number * 100 / juicers_number, female_number * 100 / juicers_number]\n",
    "}, index=['Male', 'Infant', 'Female'])\n",
    "\n",
    "juicers_sex_table = juicers_sex_table.round(2)\n",
    "print(juicers_sex_table)"
   ]
  },
  {
   "cell_type": "code",
   "execution_count": 47,
   "id": "formed-cause",
   "metadata": {},
   "outputs": [
    {
     "name": "stdout",
     "output_type": "stream",
     "text": [
      "                mean   std   min   25%   50%    75%    max\n",
      "Length          0.52  0.12  0.08  0.45  0.55   0.62   0.82\n",
      "Diameter        0.41  0.10  0.06  0.35  0.42   0.48   0.65\n",
      "Height          0.14  0.04  0.00  0.12  0.14   0.16   1.13\n",
      "Whole weight    0.83  0.49  0.00  0.44  0.80   1.15   2.83\n",
      "Shucked weight  0.36  0.22  0.00  0.19  0.34   0.50   1.49\n",
      "Viscera weight  0.18  0.11  0.00  0.09  0.17   0.25   0.76\n",
      "Shell weight    0.24  0.14  0.00  0.13  0.23   0.33   1.00\n",
      "Rings           9.93  3.22  1.00  8.00  9.00  11.00  29.00\n"
     ]
    }
   ],
   "source": [
    "juicers_statistics_table = pd.DataFrame({\n",
    "    'mean': [juicers['length'].mean(), juicers['diameter'].mean(), juicers['height'].mean(), juicers['whole_weight'].mean(), juicers['shucked_weight'].mean(), juicers['viscera_weight'].mean(), juicers['shell_weight'].mean(), juicers['rings'].mean()],\n",
    "    'std': [juicers['length'].std(), juicers['diameter'].std(), juicers['height'].std(), juicers['whole_weight'].std(), juicers['shucked_weight'].std(), juicers['viscera_weight'].std(), juicers['shell_weight'].std(), juicers['rings'].std()],\n",
    "    'min': [juicers['length'].min(), juicers['diameter'].min(), juicers['height'].min(), juicers['whole_weight'].min(), juicers['shucked_weight'].min(), juicers['viscera_weight'].min(), juicers['shell_weight'].min(), juicers['rings'].min()],\n",
    "    '25%': [juicers['length'].quantile(q=0.25), juicers['diameter'].quantile(q=0.25), juicers['height'].quantile(q=0.25), juicers['whole_weight'].quantile(q=0.25), juicers['shucked_weight'].quantile(q=0.25), juicers['viscera_weight'].quantile(q=0.25), juicers['shell_weight'].quantile(q=0.25), juicers['rings'].quantile(q=0.25)],\n",
    "    '50%': [juicers['length'].median(), juicers['diameter'].median(), juicers['height'].median(), juicers['whole_weight'].median(), juicers['shucked_weight'].median(), juicers['viscera_weight'].median(), juicers['shell_weight'].median(), juicers['rings'].median()],\n",
    "    '75%': [juicers['length'].quantile(q=0.75), juicers['diameter'].quantile(q=0.75), juicers['height'].quantile(q=0.75), juicers['whole_weight'].quantile(q=0.75), juicers['shucked_weight'].quantile(q=0.75), juicers['viscera_weight'].quantile(q=0.75), juicers['shell_weight'].quantile(q=0.75), juicers['rings'].quantile(q=0.75)],\n",
    "    'max': [juicers['length'].max(), juicers['diameter'].max(), juicers['height'].max(), juicers['whole_weight'].max(), juicers['shucked_weight'].max(), juicers['viscera_weight'].max(), juicers['shell_weight'].max(), juicers['rings'].max()],\n",
    "}, index=['Length', 'Diameter', 'Height', 'Whole weight', 'Shucked weight', 'Viscera weight', 'Shell weight', 'Rings'])\n",
    "\n",
    "# print(juicers.describe().drop('count').T)\n",
    "juicers_statistics_table = juicers_statistics_table.round(2)\n",
    "print(juicers_statistics_table)"
   ]
  },
  {
   "cell_type": "code",
   "execution_count": 48,
   "id": "institutional-specialist",
   "metadata": {},
   "outputs": [
    {
     "data": {
      "image/png": "[encoded data removed]",
      "text/plain": [
       "<Figure size 432x288 with 1 Axes>"
      ]
     },
     "metadata": {
      "needs_background": "light"
     },
     "output_type": "display_data"
    }
   ],
   "source": [
    "juicers_bar_plot = juicers_sex_table.plot.bar(y='count', rot=0)"
   ]
  },
  {
   "cell_type": "code",
   "execution_count": null,
   "id": "allied-vanilla",
   "metadata": {},
   "outputs": [],
   "source": []
  }
 ],
 "metadata": {
  "kernelspec": {
   "display_name": "Python 3",
   "language": "python",
   "name": "python3"
  },
  "language_info": {
   "codemirror_mode": {
    "name": "ipython",
    "version": 3
   },
   "file_extension": ".py",
   "mimetype": "text/x-python",
   "name": "python",
   "nbconvert_exporter": "python",
   "pygments_lexer": "ipython3",
   "version": "3.9.0"
  }
 },
 "nbformat": 4,
 "nbformat_minor": 5
}
